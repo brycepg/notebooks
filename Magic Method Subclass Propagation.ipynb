{
 "cells": [
  {
   "cell_type": "code",
   "execution_count": 17,
   "metadata": {
    "collapsed": true
   },
   "outputs": [],
   "source": [
    "from frozendict import frozendict\n",
    "from collections import abc"
   ]
  },
  {
   "cell_type": "code",
   "execution_count": 18,
   "metadata": {
    "collapsed": true
   },
   "outputs": [],
   "source": [
    "NUMERIC_METHODS = (\"__add__\", \"__sub__\", \"__mul__\", \"__matmul__\", \"__truediv__\", \"__floordiv__\", \"__mod__\", \"__divmod__\", \"__pow__\", \"__lshift__\", \"__rshift__\", \"__and__\", \"__xor__\", \"__or__\", \"__rsub__\", \"__radd__\")\n",
    "STRING_METHODS = ('__add__', '__mul__', 'lower', '__rmul__', 'zfill', 'upper', 'translate', 'title', 'swapcase', 'strip', 'lstrip', 'rstrip', 'rjust', 'ljust', 'replace', )\n",
    "PROPAGATE_LOOKUP = frozendict(\n",
    "    (('string', STRING_METHODS),\n",
    "     ('numeric', NUMERIC_METHODS),))"
   ]
  },
  {
   "cell_type": "code",
   "execution_count": 19,
   "metadata": {
    "collapsed": true
   },
   "outputs": [],
   "source": [
    "# I can't find this type so I make it here\n",
    "NotImplementedType = type(int.__add__(1, 1.0))"
   ]
  },
  {
   "cell_type": "code",
   "execution_count": 20,
   "metadata": {
    "collapsed": true
   },
   "outputs": [],
   "source": [
    "class Disallowed(Exception):\n",
    "    def __str__(self):\n",
    "        return \"This method has been disallowed\"\n",
    "class DisallowedMethod(Disallowed):\n",
    "    def __init__(self, method_name, class_name):\n",
    "        super().__init__(self)\n",
    "        self.method_name = method_name\n",
    "        \n",
    "    def __str__(self):\n",
    "        superstr = str(super().__str__(self))\n",
    "        return \"{superstr} for self.method_name\""
   ]
  },
  {
   "cell_type": "code",
   "execution_count": 40,
   "metadata": {
    "collapsed": true
   },
   "outputs": [],
   "source": [
    "def _add_class_method_propagation(cls, name):\n",
    "    def newmeth(self, *args, **kwargs):\n",
    "        \"\"\"Closure to generates the supplied a magic method attribute for classes.\n",
    "        for the current `name`.\n",
    "\n",
    "        When called on the instance newmeth will return a value of the type of the instance\n",
    "        instead of the parent class.\n",
    "\n",
    "        Allow for any number of arguments.\"\"\"\n",
    "        supermeth = getattr(super(type(self), self), name)\n",
    "        try:\n",
    "            value = type(self)(supermeth(*args, **kwargs))\n",
    "            return value\n",
    "        except TypeError:\n",
    "            dispargs = args\n",
    "            if kwargs:\n",
    "                dispargs.append(kwargs)\n",
    "            error_msg = f\"Could not generate {class_name_from_instance(self)}: for {name}: from given args: {args}\"\n",
    "            raise ValueError(error_msg) from None\n",
    "    setattr(cls, name, newmeth)"
   ]
  },
  {
   "cell_type": "code",
   "execution_count": 41,
   "metadata": {
    "collapsed": true
   },
   "outputs": [],
   "source": [
    "def class_name_from_instance(inst):\n",
    "    return type(inst).__name__"
   ]
  },
  {
   "cell_type": "code",
   "execution_count": 42,
   "metadata": {
    "collapsed": true
   },
   "outputs": [],
   "source": [
    "def _disallow_class_methods(cls, names):\n",
    "    for name in names:\n",
    "        def disallowed_attribute_function(*args, msg=name, **kwargs):\n",
    "            \"\"\"Decorator which returns a method which raise Disallowed\n",
    "            with an optional custom message for any args.\"\"\"\n",
    "            def _not_implemented(*args, **kwargs):\n",
    "                raise DisallowedMethod(name)\n",
    "        setattr(cls, name, disallowed_attribute_function(\"Disallowed by type\"))"
   ]
  },
  {
   "cell_type": "code",
   "execution_count": 43,
   "metadata": {
    "collapsed": true
   },
   "outputs": [],
   "source": [
    "def propagate(*names, magic_type=None, exclude=frozenset(), disallow=frozenset(), propagate_lookup=PROPAGATE_LOOKUP):\n",
    "    \"\"\"A decorator which adds subclass type propagation to method return values.\n",
    "    \n",
    "    This function is useful when subclassing types such as int when you want the magic methods\n",
    "    to propagate the subclassed type.\n",
    "\n",
    "    Args:\n",
    "        *names:\n",
    "            custom magic methods to propagate\n",
    "    Keyword Only Arguments:\n",
    "        magic_type:\n",
    "            predefined sets of methods to do propagation on. Currently there is\n",
    "            'numeric' and 'string'\n",
    "            This is a useful alternative to specifying all the names you want.\n",
    "        exclude:\n",
    "            Exclude these method names from having a method-attribute set. Useful in\n",
    "            conjunction with `magic_type`\n",
    "        disallow:\n",
    "            Disallow these methods names from being used at all.\n",
    "    \"\"\"\n",
    "    # Input arguments flexibility\n",
    "    names = set(names)\n",
    "    if magic_type is not None:\n",
    "        magic_type = magic_type.lower()\n",
    "    if isinstance(exclude, str):\n",
    "        exclude = set((exclude,))\n",
    "    if isinstance(disallow, str):\n",
    "        disallow = set((disallow,))\n",
    "        \n",
    "    # Add predefined collection of attribute if `magic_type` set\n",
    "    # for usability\n",
    "    if magic_type is not None:\n",
    "        allowed_magic_types = set(propagate_lookup.keys())\n",
    "        if magic_type not in allowed_magic_types:\n",
    "            raise ValueError(f\"Allowed values are: {','.join(allowed_magic_types)}\")\n",
    "        names.update(propagate_lookup[magic_type])\n",
    "        \n",
    "    # Exlclude attributes from being overridden\n",
    "    names = names.difference(exclude)\n",
    "    if isinstance(names, str):\n",
    "        names = (names,)\n",
    "    def apply_cls(cls):\n",
    "        \"\"\"sub decorator for setting class attribute-methods\"\"\"\n",
    "        for name in names.difference(disallow):\n",
    "            _add_class_method_propagation(cls, name)\n",
    "        if disallow is not None:\n",
    "            _disallow_class_methods(cls, disallow)\n",
    "        return cls\n",
    "    return apply_cls"
   ]
  },
  {
   "cell_type": "code",
   "execution_count": 44,
   "metadata": {},
   "outputs": [
    {
     "data": {
      "text/plain": [
       "True"
      ]
     },
     "execution_count": 44,
     "metadata": {},
     "output_type": "execute_result"
    }
   ],
   "source": [
    "1.0 == 1"
   ]
  },
  {
   "cell_type": "code",
   "execution_count": 45,
   "metadata": {
    "collapsed": true
   },
   "outputs": [],
   "source": [
    "class _mod:\n",
    "    \"\"\"Modular integer.\n",
    "    \n",
    "    Defaults to mod 3\n",
    "    \"\"\"\n",
    "    default_mod = 3\n",
    "    def __new__(cls, state, *, mod=None):\n",
    "        #intstate = int(state)\n",
    "        intstate = state\n",
    "        if mod is None:\n",
    "            mod = cls.default_mod\n",
    "        try:\n",
    "            intstate %= mod\n",
    "        except TypeError as exc:\n",
    "            raise TypeError(state, mod) from exc\n",
    "        inst = super(_mod, cls).__new__(cls, intstate)\n",
    "        return inst"
   ]
  },
  {
   "cell_type": "code",
   "execution_count": 46,
   "metadata": {},
   "outputs": [],
   "source": [
    "@propagate(magic_type='numeric')\n",
    "class modint(_mod, int):\n",
    "    pass\n",
    "\n",
    "@propagate(disallow='__truediv__')\n",
    "class strictmodint(_mod, str):\n",
    "    def __new__(cls, state):\n",
    "        if not isinstance(state, int):\n",
    "            raise ValueError(f\"Must be an int: {state}\")\n",
    "        return super().__new__(cls, state)\n",
    "    "
   ]
  },
  {
   "cell_type": "code",
   "execution_count": 47,
   "metadata": {
    "collapsed": true
   },
   "outputs": [],
   "source": [
    "@propagate(magic_type='string', disallow='__iter__')\n",
    "class atomicstr(str):\n",
    "    \"\"\"Strings that disallow iteration.\"\"\"\n",
    "    pass"
   ]
  },
  {
   "cell_type": "code",
   "execution_count": 48,
   "metadata": {
    "collapsed": true
   },
   "outputs": [],
   "source": [
    "x = modint(5, mod=3)"
   ]
  },
  {
   "cell_type": "code",
   "execution_count": 49,
   "metadata": {},
   "outputs": [
    {
     "data": {
      "text/plain": [
       "1"
      ]
     },
     "execution_count": 49,
     "metadata": {},
     "output_type": "execute_result"
    }
   ],
   "source": [
    "x + 5"
   ]
  },
  {
   "cell_type": "code",
   "execution_count": 51,
   "metadata": {},
   "outputs": [
    {
     "ename": "ValueError",
     "evalue": "Could not generate modint: for __sub__: from given args: (1.0,)",
     "output_type": "error",
     "traceback": [
      "\u001b[0;31m---------------------------------------------------------------------------\u001b[0m",
      "\u001b[0;31mValueError\u001b[0m                                Traceback (most recent call last)",
      "\u001b[0;32m<ipython-input-51-000f0c4d96a7>\u001b[0m in \u001b[0;36m<module>\u001b[0;34m()\u001b[0m\n\u001b[0;32m----> 1\u001b[0;31m \u001b[0mx\u001b[0m \u001b[0;34m-\u001b[0m \u001b[0;36m1.0\u001b[0m\u001b[0;34m\u001b[0m\u001b[0m\n\u001b[0m",
      "\u001b[0;32m<ipython-input-40-2a4a244bc701>\u001b[0m in \u001b[0;36mnewmeth\u001b[0;34m(self, *args, **kwargs)\u001b[0m\n\u001b[1;32m     17\u001b[0m                 \u001b[0mdispargs\u001b[0m\u001b[0;34m.\u001b[0m\u001b[0mappend\u001b[0m\u001b[0;34m(\u001b[0m\u001b[0mkwargs\u001b[0m\u001b[0;34m)\u001b[0m\u001b[0;34m\u001b[0m\u001b[0m\n\u001b[1;32m     18\u001b[0m             \u001b[0merror_msg\u001b[0m \u001b[0;34m=\u001b[0m \u001b[0;34mf\"Could not generate {class_name_from_instance(self)}: for {name}: from given args: {args}\"\u001b[0m\u001b[0;34m\u001b[0m\u001b[0m\n\u001b[0;32m---> 19\u001b[0;31m             \u001b[0;32mraise\u001b[0m \u001b[0mValueError\u001b[0m\u001b[0;34m(\u001b[0m\u001b[0merror_msg\u001b[0m\u001b[0;34m)\u001b[0m \u001b[0;32mfrom\u001b[0m \u001b[0;32mNone\u001b[0m\u001b[0;34m\u001b[0m\u001b[0m\n\u001b[0m\u001b[1;32m     20\u001b[0m     \u001b[0msetattr\u001b[0m\u001b[0;34m(\u001b[0m\u001b[0mcls\u001b[0m\u001b[0;34m,\u001b[0m \u001b[0mname\u001b[0m\u001b[0;34m,\u001b[0m \u001b[0mnewmeth\u001b[0m\u001b[0;34m)\u001b[0m\u001b[0;34m\u001b[0m\u001b[0m\n",
      "\u001b[0;31mValueError\u001b[0m: Could not generate modint: for __sub__: from given args: (1.0,)"
     ]
    }
   ],
   "source": [
    "x - 1.0"
   ]
  },
  {
   "cell_type": "code",
   "execution_count": 52,
   "metadata": {
    "scrolled": true
   },
   "outputs": [
    {
     "ename": "TypeError",
     "evalue": "'atomicstr' object is not iterable",
     "output_type": "error",
     "traceback": [
      "\u001b[0;31m---------------------------------------------------------------------------\u001b[0m",
      "\u001b[0;31mTypeError\u001b[0m                                 Traceback (most recent call last)",
      "\u001b[0;32m<ipython-input-52-1a50232c0f75>\u001b[0m in \u001b[0;36m<module>\u001b[0;34m()\u001b[0m\n\u001b[0;32m----> 1\u001b[0;31m \u001b[0;32mfor\u001b[0m \u001b[0mx\u001b[0m \u001b[0;32min\u001b[0m \u001b[0matomicstr\u001b[0m\u001b[0;34m(\u001b[0m\u001b[0;34m\"f\"\u001b[0m\u001b[0;34m)\u001b[0m\u001b[0;34m:\u001b[0m\u001b[0;34m\u001b[0m\u001b[0m\n\u001b[0m\u001b[1;32m      2\u001b[0m     \u001b[0mprint\u001b[0m\u001b[0;34m(\u001b[0m\u001b[0mx\u001b[0m\u001b[0;34m)\u001b[0m\u001b[0;34m\u001b[0m\u001b[0m\n",
      "\u001b[0;31mTypeError\u001b[0m: 'atomicstr' object is not iterable"
     ]
    }
   ],
   "source": [
    "for x in atomicstr(\"f\"):\n",
    "    print(x)"
   ]
  }
 ],
 "metadata": {
  "kernelspec": {
   "display_name": "Python 3",
   "language": "python",
   "name": "python3"
  },
  "language_info": {
   "codemirror_mode": {
    "name": "ipython",
    "version": 3
   },
   "file_extension": ".py",
   "mimetype": "text/x-python",
   "name": "python",
   "nbconvert_exporter": "python",
   "pygments_lexer": "ipython3",
   "version": "3.6.1"
  }
 },
 "nbformat": 4,
 "nbformat_minor": 2
}
