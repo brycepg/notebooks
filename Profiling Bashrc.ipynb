{
 "cells": [
  {
   "cell_type": "markdown",
   "metadata": {},
   "source": [
    "I used this document to profile my ~/.bashrc file.\n",
    "\n",
    "# Requirements:\n",
    "\n",
    "    * Python 3\n",
    "    * daemontools(tai64n, tai64nlocal)\n",
    "    \n",
    "# Conclusion:\n",
    "\n",
    "``thefuck`` was causing a second plus holdup, and I had to omment it out."
   ]
  },
  {
   "cell_type": "markdown",
   "metadata": {},
   "source": [
    "# Imports"
   ]
  },
  {
   "cell_type": "code",
   "execution_count": 9,
   "metadata": {
    "collapsed": true
   },
   "outputs": [],
   "source": [
    "from datetime import datetime\n",
    "import itertools\n",
    "from operator import itemgetter"
   ]
  },
  {
   "cell_type": "markdown",
   "metadata": {},
   "source": [
    "# Get the data"
   ]
  },
  {
   "cell_type": "code",
   "execution_count": 10,
   "metadata": {
    "collapsed": true
   },
   "outputs": [],
   "source": [
    "time_txt = !sh -x ~/.bashrc 2>&1 | tai64n | tai64nlocal"
   ]
  },
  {
   "cell_type": "markdown",
   "metadata": {},
   "source": [
    "Here's what it looks like:"
   ]
  },
  {
   "cell_type": "code",
   "execution_count": 11,
   "metadata": {
    "collapsed": false
   },
   "outputs": [
    {
     "data": {
      "text/plain": [
       "['2016-11-29 05:54:10.728393500 + [[ hxB != *i* ]]',\n",
       " '2016-11-29 05:54:10.728394500 + return',\n",
       " \"2016-11-29 05:54:10.728474500 /home/bguinta/.bashrc: line 2: return: can only `return' from a function or sourced script\",\n",
       " '2016-11-29 05:54:10.728777500 + [[ -f /home/bguinta/.bashrc.local ]]',\n",
       " '2016-11-29 05:54:10.728797500 + . /home/bguinta/.bashrc.local',\n",
       " '2016-11-29 05:54:10.728856500 ++ [[ -f /home/bguinta/.extend.bashrc ]]',\n",
       " '2016-11-29 05:54:10.728885500 ++ . /home/bguinta/.extend.bashrc',\n",
       " '2016-11-29 05:54:10.729013500 +++ case ${TERM} in',\n",
       " '2016-11-29 05:54:10.729064500 +++ PROMPT_COMMAND=\\'echo -ne \"\\\\033]0;${USER}@${HOSTNAME%%.*}:${PWD/#$HOME/~}\\\\007\"\\'',\n",
       " '2016-11-29 05:54:10.729108500 +++ use_color=true']"
      ]
     },
     "execution_count": 11,
     "metadata": {},
     "output_type": "execute_result"
    }
   ],
   "source": [
    "time_txt[:10]"
   ]
  },
  {
   "cell_type": "code",
   "execution_count": 12,
   "metadata": {
    "collapsed": true
   },
   "outputs": [],
   "source": [
    "# Taken from boltons\n",
    "def windowed_iter(src, size):\n",
    "    \"\"\"Returns tuples with length *size* which represent a sliding\n",
    "    window over iterable *src*.\n",
    "\n",
    "    >>> list(windowed_iter(range(7), 3))\n",
    "    [(0, 1, 2), (1, 2, 3), (2, 3, 4), (3, 4, 5), (4, 5, 6)]\n",
    "\n",
    "    If the iterable is too short to make a window of length *size*,\n",
    "    then no window tuples are returned.\n",
    "\n",
    "    >>> list(windowed_iter(range(3), 5))\n",
    "    []\n",
    "    \"\"\"\n",
    "    # TODO: lists? (for consistency)\n",
    "    tees = itertools.tee(src, size)\n",
    "    try:\n",
    "        for i, t in enumerate(tees):\n",
    "            for _ in range(i):\n",
    "                next(t)\n",
    "    except StopIteration:\n",
    "        return zip([])\n",
    "    return zip(*tees)"
   ]
  },
  {
   "cell_type": "code",
   "execution_count": 13,
   "metadata": {
    "collapsed": false
   },
   "outputs": [],
   "source": [
    "def extract_timestring(text_list):\n",
    "    \"\"\"Grab Only relevent time data(Hours Minutes Seconds Microseconds)\"\"\"\n",
    "    for line in time_txt:\n",
    "        _, time, *cmd = line.split()\n",
    "        yield time\n",
    "def str_to_datetime(time_list):\n",
    "    \"\"\"Chop the bogus nano seconds art of the string. Convert to datetime\"\"\"\n",
    "    for time_string in time_list:\n",
    "        yield datetime.strptime(time_string[:-3], \"%H:%M:%S.%f\")\n",
    "def generate_deltas(datetime_list):    \n",
    "    \"\"\"Return the time taken between every line in the rcfile\"\"\"\n",
    "    for  date1, date2 in windowed_iter(datetimes, 2):\n",
    "        yield (date2 - date1)\n",
    "    "
   ]
  },
  {
   "cell_type": "markdown",
   "metadata": {},
   "source": [
    "# Processing"
   ]
  },
  {
   "cell_type": "code",
   "execution_count": 14,
   "metadata": {
    "collapsed": false
   },
   "outputs": [],
   "source": [
    "datetimes = str_to_datetime(extract_timestring(time_txt))\n",
    "deltas = generate_deltas(datetimes)\n",
    "delta_pair = enumerate(deltas)\n",
    "delta_descending = sorted(delta_pair, key=itemgetter(1), reverse=True)"
   ]
  },
  {
   "cell_type": "markdown",
   "metadata": {},
   "source": [
    "# Formatting"
   ]
  },
  {
   "cell_type": "code",
   "execution_count": 15,
   "metadata": {
    "collapsed": false
   },
   "outputs": [
    {
     "name": "stdout",
     "output_type": "stream",
     "text": [
      "Time      | Command\n",
      "0.99109   | thefuck --alias\n",
      "0.004467  | dircolors -b /home/bguinta/.dir_colors\n",
      "0.002557  | grep --colour=auto '_z --add'\n",
      "0.001847  | xhost +local:root\n",
      "0.001226  | readlink -f /home/bguinta/.bashrc\n",
      "0.00091   | [[ -f /home/bguinta/.dir_colors ]]\n",
      "0.000786  | '[' -d /home/bguinta/.z ']'\n",
      "0.000759  | '[' -r /usr/share/bash-completion/bash_completion ']'\n",
      "0.000746  | dirname /home/bguinta/dotfiles/bashrc\n",
      "0.000467  | [[ -f /home/bguinta/.dir_colors ]]\n",
      "0.000389  | type thefuck\n",
      "0.000303  | /home/bguinta/.bashrc: line 2: return: can only `return' from a function or sourced script\n",
      "0.000231  | eval 'LS_COLORS='\\''rs=0:di=01;34:ln=01;36:mh=00:pi=40;33:so=01;35:do=01;35:bd=40;33;01:cd=40;33;01:or=01;05;37;41:mi=01;05;37;41:su=37;41:sg=30;43:ca=30;41:tw=30;42:ow=34;42:st=37;44:ex=01;32:*.tar=01;31:*.tgz=01;31:*.arc=01;31:*.arj=01;31:*.taz=01;31:*.lha=01;31:*.lz4=01;31:*.lzh=01;31:*.lzma=01;31:*.tlz=01;31:*.txz=01;31:*.tzo=01;31:*.t7z=01;31:*.zip=01;31:*.z=01;31:*.Z=01;31:*.dz=01;31:*.gz=01;31:*.lrz=01;31:*.lz=01;31:*.lzo=01;31:*.xz=01;31:*.bz2=01;31:*.bz=01;31:*.tbz=01;31:*.tbz2=01;31:*.tz=01;31:*.deb=01;31:*.rpm=01;31:*.jar=01;31:*.war=01;31:*.ear=01;31:*.sar=01;31:*.rar=01;31:*.alz=01;31:*.ace=01;31:*.zoo=01;31:*.cpio=01;31:*.7z=01;31:*.rz=01;31:*.cab=01;31:*.jpg=01;35:*.jpeg=01;35:*.gif=01;35:*.bmp=01;35:*.pbm=01;35:*.pgm=01;35:*.ppm=01;35:*.tga=01;35:*.xbm=01;35:*.xpm=01;35:*.tif=01;35:*.tiff=01;35:*.png=01;35:*.svg=01;35:*.svgz=01;35:*.mng=01;35:*.pcx=01;35:*.mov=01;35:*.mpg=01;35:*.mpeg=01;35:*.m2v=01;35:*.mkv=01;35:*.webm=01;35:*.ogm=01;35:*.mp4=01;35:*.m4v=01;35:*.mp4v=01;35:*.vob=01;35:*.qt=01;35:*.nuv=01;35:*.wmv=01;35:*.asf=01;35:*.rm=01;35:*.rmvb=01;35:*.flc=01;35:*.avi=01;35:*.fli=01;35:*.flv=01;35:*.gl=01;35:*.dl=01;35:*.xcf=01;35:*.xwd=01;35:*.yuv=01;35:*.cgm=01;35:*.emf=01;35:*.axv=01;35:*.anx=01;35:*.ogv=01;35:*.ogx=01;35:*.pdf=00;32:*.ps=00;32:*.txt=00;32:*.patch=00;32:*.diff=00;32:*.log=00;32:*.tex=00;32:*.doc=00;32:*.aac=00;36:*.au=00;36:*.flac=00;36:*.m4a=00;36:*.mid=00;36:*.midi=00;36:*.mka=00;36:*.mp3=00;36:*.mpc=00;36:*.ogg=00;36:*.ra=00;36:*.wav=00;36:*.axa=00;36:*.oga=00;36:*.spx=00;36:*.xspf=00;36:'\\'';' export LS_COLORS\n",
      "0.000207  | shopt -s histappend\n",
      "0.000201  | use_color=true\n",
      "0.000162  | eval alias 'fuck='\\''TF_CMD=$(TF_ALIAS=fuck' PYTHONIOENCODING=utf-8 'TF_SHELL_ALIASES=$(alias)' thefuck '$(fc' -ln -1 '|' tail -n '1))' '&&' eval '$TF_CMD' '&&' print -s '$TF_CMD'\\'''\n",
      "0.000153  | _Z_RESOLVE_SYMLINKS=-P\n",
      "0.000128  | . /home/bguinta/.extend.bashrc\n",
      "0.000127  | PATH=/usr/local/sbin:/usr/local/bin:/usr/bin:/usr/lib/jvm/default/bin:/usr/bin/site_perl:/usr/bin/vendor_perl:/usr/bin/core_perl:/home/bguinta/.local/bin:/home/bguinta/.local/bin\n",
      "0.00012   | [[ -f /etc/DIR_COLORS ]]\n",
      "0.000101  | .xspf 00;36 ]]\n",
      "0.0001    | source /usr/share/z/z.sh\n"
     ]
    }
   ],
   "source": [
    "format_str = \"{:<9} | {}\"\n",
    "print(format_str.format(\"Time\", \"Command\"))\n",
    "for i, delta in delta_descending:\n",
    "    # Remove tai64nlocal date and formatting\n",
    "    cmd_text = \" \".join(time_txt[i].split(\" \")[2:]).lstrip(\"+ \")\n",
    "    print(format_str.format(delta.total_seconds(), cmd_text))\n",
    "    # Ignore lines that take less than 100 microseconds\n",
    "    if delta.microseconds <= 100:\n",
    "        break"
   ]
  }
 ],
 "metadata": {
  "kernelspec": {
   "display_name": "Python 3",
   "language": "python",
   "name": "python3"
  },
  "language_info": {
   "codemirror_mode": {
    "name": "ipython",
    "version": 3
   },
   "file_extension": ".py",
   "mimetype": "text/x-python",
   "name": "python",
   "nbconvert_exporter": "python",
   "pygments_lexer": "ipython3",
   "version": "3.5.2"
  }
 },
 "nbformat": 4,
 "nbformat_minor": 1
}
